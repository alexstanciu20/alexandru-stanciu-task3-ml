{
 "cells": [
  {
   "cell_type": "markdown",
   "id": "35ccaa8e",
   "metadata": {},
   "source": [
    "1. Incarcare librarii si date"
   ]
  },
  {
   "cell_type": "code",
   "execution_count": 27,
   "id": "cbbec098",
   "metadata": {},
   "outputs": [
    {
     "data": {
      "text/html": [
       "<div>\n",
       "<style scoped>\n",
       "    .dataframe tbody tr th:only-of-type {\n",
       "        vertical-align: middle;\n",
       "    }\n",
       "\n",
       "    .dataframe tbody tr th {\n",
       "        vertical-align: top;\n",
       "    }\n",
       "\n",
       "    .dataframe thead th {\n",
       "        text-align: right;\n",
       "    }\n",
       "</style>\n",
       "<table border=\"1\" class=\"dataframe\">\n",
       "  <thead>\n",
       "    <tr style=\"text-align: right;\">\n",
       "      <th></th>\n",
       "      <th>product ID</th>\n",
       "      <th>Product Title</th>\n",
       "      <th>Merchant ID</th>\n",
       "      <th>Category Label</th>\n",
       "      <th>_Product Code</th>\n",
       "      <th>Number_of_Views</th>\n",
       "      <th>Merchant Rating</th>\n",
       "      <th>Listing Date</th>\n",
       "    </tr>\n",
       "  </thead>\n",
       "  <tbody>\n",
       "    <tr>\n",
       "      <th>0</th>\n",
       "      <td>1</td>\n",
       "      <td>apple iphone 8 plus 64gb silver</td>\n",
       "      <td>1</td>\n",
       "      <td>Mobile Phones</td>\n",
       "      <td>QA-2276-XC</td>\n",
       "      <td>860.0</td>\n",
       "      <td>2.5</td>\n",
       "      <td>5/10/2024</td>\n",
       "    </tr>\n",
       "    <tr>\n",
       "      <th>1</th>\n",
       "      <td>2</td>\n",
       "      <td>apple iphone 8 plus 64 gb spacegrau</td>\n",
       "      <td>2</td>\n",
       "      <td>Mobile Phones</td>\n",
       "      <td>KA-2501-QO</td>\n",
       "      <td>3772.0</td>\n",
       "      <td>4.8</td>\n",
       "      <td>12/31/2024</td>\n",
       "    </tr>\n",
       "    <tr>\n",
       "      <th>2</th>\n",
       "      <td>3</td>\n",
       "      <td>apple mq8n2b/a iphone 8 plus 64gb 5.5 12mp sim...</td>\n",
       "      <td>3</td>\n",
       "      <td>Mobile Phones</td>\n",
       "      <td>FP-8086-IE</td>\n",
       "      <td>3092.0</td>\n",
       "      <td>3.9</td>\n",
       "      <td>11/10/2024</td>\n",
       "    </tr>\n",
       "    <tr>\n",
       "      <th>3</th>\n",
       "      <td>4</td>\n",
       "      <td>apple iphone 8 plus 64gb space grey</td>\n",
       "      <td>4</td>\n",
       "      <td>Mobile Phones</td>\n",
       "      <td>YI-0086-US</td>\n",
       "      <td>466.0</td>\n",
       "      <td>3.4</td>\n",
       "      <td>5/2/2022</td>\n",
       "    </tr>\n",
       "    <tr>\n",
       "      <th>4</th>\n",
       "      <td>5</td>\n",
       "      <td>apple iphone 8 plus gold 5.5 64gb 4g unlocked ...</td>\n",
       "      <td>5</td>\n",
       "      <td>Mobile Phones</td>\n",
       "      <td>NZ-3586-WP</td>\n",
       "      <td>4426.0</td>\n",
       "      <td>1.6</td>\n",
       "      <td>4/12/2023</td>\n",
       "    </tr>\n",
       "  </tbody>\n",
       "</table>\n",
       "</div>"
      ],
      "text/plain": [
       "   product ID                                      Product Title  Merchant ID  \\\n",
       "0           1                    apple iphone 8 plus 64gb silver            1   \n",
       "1           2                apple iphone 8 plus 64 gb spacegrau            2   \n",
       "2           3  apple mq8n2b/a iphone 8 plus 64gb 5.5 12mp sim...            3   \n",
       "3           4                apple iphone 8 plus 64gb space grey            4   \n",
       "4           5  apple iphone 8 plus gold 5.5 64gb 4g unlocked ...            5   \n",
       "\n",
       "   Category Label _Product Code  Number_of_Views  Merchant Rating  \\\n",
       "0   Mobile Phones    QA-2276-XC            860.0              2.5   \n",
       "1   Mobile Phones    KA-2501-QO           3772.0              4.8   \n",
       "2   Mobile Phones    FP-8086-IE           3092.0              3.9   \n",
       "3   Mobile Phones    YI-0086-US            466.0              3.4   \n",
       "4   Mobile Phones    NZ-3586-WP           4426.0              1.6   \n",
       "\n",
       "   Listing Date    \n",
       "0       5/10/2024  \n",
       "1      12/31/2024  \n",
       "2      11/10/2024  \n",
       "3        5/2/2022  \n",
       "4       4/12/2023  "
      ]
     },
     "execution_count": 27,
     "metadata": {},
     "output_type": "execute_result"
    }
   ],
   "source": [
    "# Librarii de baza\n",
    "import pandas as pd\n",
    "import numpy as np\n",
    "import re\n",
    "import matplotlib.pyplot as plt\n",
    "import seaborn as sns\n",
    "\n",
    "# Sklearn\n",
    "from sklearn.model_selection import train_test_split, cross_val_score\n",
    "from sklearn.feature_extraction.text import TfidfVectorizer\n",
    "from sklearn.linear_model import LogisticRegression\n",
    "from sklearn.pipeline import Pipeline\n",
    "from sklearn.metrics import classification_report\n",
    "from sklearn.ensemble import RandomForestClassifier\n",
    "from sklearn.svm import LinearSVC\n",
    "from sklearn.naive_bayes import MultinomialNB\n",
    "import joblib\n",
    "\n",
    "# Incarcare dataset\n",
    "df = pd.read_csv('data/IMLP4_TASK_03-products.csv')\n",
    "df.head()\n"
   ]
  },
  {
   "cell_type": "markdown",
   "id": "7ad197c2",
   "metadata": {},
   "source": [
    "2. Explorarea initiala a datelor"
   ]
  },
  {
   "cell_type": "code",
   "execution_count": 28,
   "id": "e17fb66d",
   "metadata": {},
   "outputs": [
    {
     "name": "stdout",
     "output_type": "stream",
     "text": [
      "Shape: (35311, 8)\n",
      "<class 'pandas.core.frame.DataFrame'>\n",
      "RangeIndex: 35311 entries, 0 to 35310\n",
      "Data columns (total 8 columns):\n",
      " #   Column           Non-Null Count  Dtype  \n",
      "---  ------           --------------  -----  \n",
      " 0   product ID       35311 non-null  int64  \n",
      " 1   Product Title    35139 non-null  object \n",
      " 2   Merchant ID      35311 non-null  int64  \n",
      " 3    Category Label  35267 non-null  object \n",
      " 4   _Product Code    35216 non-null  object \n",
      " 5   Number_of_Views  35297 non-null  float64\n",
      " 6   Merchant Rating  35141 non-null  float64\n",
      " 7    Listing Date    35252 non-null  object \n",
      "dtypes: float64(2), int64(2), object(4)\n",
      "memory usage: 2.2+ MB\n",
      "None\n",
      "         product ID   Merchant ID  Number_of_Views  Merchant Rating\n",
      "count  35311.000000  35311.000000     35297.000000     35141.000000\n",
      "mean   26150.800176    120.501883      2501.469587         2.998261\n",
      "std    13498.191220    117.045557      1438.217697         1.152664\n",
      "min        1.000000      1.000000         0.000000         1.000000\n",
      "25%    14958.500000     17.000000      1256.000000         2.000000\n",
      "50%    27614.000000     75.000000      2509.000000         3.000000\n",
      "75%    37508.500000    253.000000      3735.000000         4.000000\n",
      "max    47358.000000    371.000000      5000.000000         5.000000\n",
      "Duplicated rows: 0\n"
     ]
    }
   ],
   "source": [
    "# Forma dataset\n",
    "print(\"Shape:\", df.shape)\n",
    "\n",
    "# Tipuri si valori lipsa\n",
    "print(df.info())\n",
    "\n",
    "# Statistici sumare pentru coloanele numerice\n",
    "print(df.describe())\n",
    "\n",
    "# Verificare valori duplicate\n",
    "print(\"Duplicated rows:\", df.duplicated().sum())\n"
   ]
  },
  {
   "cell_type": "markdown",
   "id": "3fa47597",
   "metadata": {},
   "source": [
    "3. Curatarea si normalizarea datelor"
   ]
  },
  {
   "cell_type": "code",
   "execution_count": 29,
   "id": "86a2f9d2",
   "metadata": {},
   "outputs": [
    {
     "data": {
      "text/html": [
       "<div>\n",
       "<style scoped>\n",
       "    .dataframe tbody tr th:only-of-type {\n",
       "        vertical-align: middle;\n",
       "    }\n",
       "\n",
       "    .dataframe tbody tr th {\n",
       "        vertical-align: top;\n",
       "    }\n",
       "\n",
       "    .dataframe thead th {\n",
       "        text-align: right;\n",
       "    }\n",
       "</style>\n",
       "<table border=\"1\" class=\"dataframe\">\n",
       "  <thead>\n",
       "    <tr style=\"text-align: right;\">\n",
       "      <th></th>\n",
       "      <th>product_id</th>\n",
       "      <th>product_title</th>\n",
       "      <th>merchant_id</th>\n",
       "      <th>category_label</th>\n",
       "      <th>product_code</th>\n",
       "      <th>number_of_views</th>\n",
       "      <th>merchant_rating</th>\n",
       "      <th>listing_date</th>\n",
       "    </tr>\n",
       "  </thead>\n",
       "  <tbody>\n",
       "    <tr>\n",
       "      <th>0</th>\n",
       "      <td>1</td>\n",
       "      <td>apple iphone 8 plus 64gb silver</td>\n",
       "      <td>1</td>\n",
       "      <td>Mobile Phones</td>\n",
       "      <td>QA-2276-XC</td>\n",
       "      <td>860.0</td>\n",
       "      <td>2.5</td>\n",
       "      <td>5/10/2024</td>\n",
       "    </tr>\n",
       "    <tr>\n",
       "      <th>1</th>\n",
       "      <td>2</td>\n",
       "      <td>apple iphone 8 plus 64 gb spacegrau</td>\n",
       "      <td>2</td>\n",
       "      <td>Mobile Phones</td>\n",
       "      <td>KA-2501-QO</td>\n",
       "      <td>3772.0</td>\n",
       "      <td>4.8</td>\n",
       "      <td>12/31/2024</td>\n",
       "    </tr>\n",
       "    <tr>\n",
       "      <th>2</th>\n",
       "      <td>3</td>\n",
       "      <td>apple mq8n2b a iphone 8 plus 64gb 5 5 12mp sim...</td>\n",
       "      <td>3</td>\n",
       "      <td>Mobile Phones</td>\n",
       "      <td>FP-8086-IE</td>\n",
       "      <td>3092.0</td>\n",
       "      <td>3.9</td>\n",
       "      <td>11/10/2024</td>\n",
       "    </tr>\n",
       "    <tr>\n",
       "      <th>3</th>\n",
       "      <td>4</td>\n",
       "      <td>apple iphone 8 plus 64gb space grey</td>\n",
       "      <td>4</td>\n",
       "      <td>Mobile Phones</td>\n",
       "      <td>YI-0086-US</td>\n",
       "      <td>466.0</td>\n",
       "      <td>3.4</td>\n",
       "      <td>5/2/2022</td>\n",
       "    </tr>\n",
       "    <tr>\n",
       "      <th>4</th>\n",
       "      <td>5</td>\n",
       "      <td>apple iphone 8 plus gold 5 5 64gb 4g unlocked ...</td>\n",
       "      <td>5</td>\n",
       "      <td>Mobile Phones</td>\n",
       "      <td>NZ-3586-WP</td>\n",
       "      <td>4426.0</td>\n",
       "      <td>1.6</td>\n",
       "      <td>4/12/2023</td>\n",
       "    </tr>\n",
       "  </tbody>\n",
       "</table>\n",
       "</div>"
      ],
      "text/plain": [
       "   product_id                                      product_title  merchant_id  \\\n",
       "0           1                    apple iphone 8 plus 64gb silver            1   \n",
       "1           2                apple iphone 8 plus 64 gb spacegrau            2   \n",
       "2           3  apple mq8n2b a iphone 8 plus 64gb 5 5 12mp sim...            3   \n",
       "3           4                apple iphone 8 plus 64gb space grey            4   \n",
       "4           5  apple iphone 8 plus gold 5 5 64gb 4g unlocked ...            5   \n",
       "\n",
       "  category_label product_code  number_of_views  merchant_rating listing_date  \n",
       "0  Mobile Phones   QA-2276-XC            860.0              2.5    5/10/2024  \n",
       "1  Mobile Phones   KA-2501-QO           3772.0              4.8   12/31/2024  \n",
       "2  Mobile Phones   FP-8086-IE           3092.0              3.9   11/10/2024  \n",
       "3  Mobile Phones   YI-0086-US            466.0              3.4     5/2/2022  \n",
       "4  Mobile Phones   NZ-3586-WP           4426.0              1.6    4/12/2023  "
      ]
     },
     "execution_count": 29,
     "metadata": {},
     "output_type": "execute_result"
    }
   ],
   "source": [
    "# Functie de normalizare coloane\n",
    "def normalize_column_name(col_name):\n",
    "    col_name = col_name.strip().lower()\n",
    "    col_name = ''.join(c if c.isalnum() else '_' for c in col_name)\n",
    "    while '__' in col_name:\n",
    "        col_name = col_name.replace('__', '_')\n",
    "    return col_name.strip('_')\n",
    "\n",
    "df.columns = [normalize_column_name(c) for c in df.columns]\n",
    "\n",
    "# Eliminare valori lipsa si duplicate\n",
    "df = df.dropna().drop_duplicates()\n",
    "\n",
    "# Curatare text 'product_title'\n",
    "df['product_title'] = df['product_title'].astype(str).str.strip().str.lower()\n",
    "df['product_title'] = df['product_title'].apply(lambda x: re.sub(r'[^a-z0-9\\s]', ' ', x))\n",
    "\n",
    "# Corectare etichete\n",
    "df['category_label'] = df['category_label'].replace({\n",
    "    'Mobile Phone': 'Mobile Phones',\n",
    "    'fridge': 'Fridges',\n",
    "    'CPU': 'CPUs'\n",
    "})\n",
    "\n",
    "df.head()\n"
   ]
  },
  {
   "cell_type": "markdown",
   "id": "f60e5df3",
   "metadata": {},
   "source": [
    "4. Analiza exploratorie (EDA)"
   ]
  },
  {
   "cell_type": "code",
   "execution_count": 30,
   "id": "581de95a",
   "metadata": {},
   "outputs": [
    {
     "data": {
      "image/png": "[encoded data removed]",
      "text/plain": [
       "<Figure size 1000x500 with 1 Axes>"
      ]
     },
     "metadata": {},
     "output_type": "display_data"
    },
    {
     "data": {
      "image/png": "[encoded data removed]",
      "text/plain": [
       "<Figure size 640x480 with 1 Axes>"
      ]
     },
     "metadata": {},
     "output_type": "display_data"
    }
   ],
   "source": [
    "# Distributie categorii\n",
    "plt.figure(figsize=(10,5))\n",
    "sns.countplot(y='category_label', data=df, order=df['category_label'].value_counts().index)\n",
    "plt.title(\"Distributie categorii\")\n",
    "plt.show()\n",
    "\n",
    "# Lungimea titlurilor\n",
    "df['title_length'] = df['product_title'].apply(len)\n",
    "sns.histplot(df['title_length'], bins=30)\n",
    "plt.title(\"Distributie lungime titlu\")\n",
    "plt.show()\n"
   ]
  },
  {
   "cell_type": "markdown",
   "id": "c2417cef",
   "metadata": {},
   "source": [
    "5. Impartirea datasetului in train si test"
   ]
  },
  {
   "cell_type": "code",
   "execution_count": 31,
   "id": "fc9cdcc3",
   "metadata": {},
   "outputs": [],
   "source": [
    "X = df['product_title']\n",
    "y = df['category_label']\n",
    "\n",
    "X_train, X_test, y_train, y_test = train_test_split(\n",
    "    X, y, stratify=y, test_size=0.2, random_state=42\n",
    ")\n"
   ]
  },
  {
   "cell_type": "markdown",
   "id": "55f44ee1",
   "metadata": {},
   "source": [
    "6. Definire modele si cross-validation"
   ]
  },
  {
   "cell_type": "code",
   "execution_count": 32,
   "id": "5f9ec131",
   "metadata": {},
   "outputs": [
    {
     "name": "stdout",
     "output_type": "stream",
     "text": [
      "Logistic Regression: 0.9507 (+/- 0.0041)\n",
      "Naive Bayes: 0.9330 (+/- 0.0029)\n",
      "Random Forest: 0.9501 (+/- 0.0043)\n",
      "Linear SVC: 0.9526 (+/- 0.0054)\n"
     ]
    }
   ],
   "source": [
    "models = {\n",
    "    \"Logistic Regression\": LogisticRegression(max_iter=1000),\n",
    "    \"Naive Bayes\": MultinomialNB(),\n",
    "    \"Random Forest\": RandomForestClassifier(n_estimators=200, random_state=42),\n",
    "    \"Linear SVC\": LinearSVC()\n",
    "}\n",
    "\n",
    "results = {}\n",
    "for name, model in models.items():\n",
    "    pipe = Pipeline([\n",
    "        (\"tfidf\", TfidfVectorizer(max_features=5000, ngram_range=(1,2))),\n",
    "        (\"clf\", model)\n",
    "    ])\n",
    "    scores = cross_val_score(pipe, X_train, y_train, cv=5, scoring=\"accuracy\")\n",
    "    results[name] = (scores.mean(), scores.std())\n",
    "\n",
    "for model, (mean_acc, std_acc) in results.items():\n",
    "    print(f\"{model}: {mean_acc:.4f} (+/- {std_acc:.4f})\")\n"
   ]
  },
  {
   "cell_type": "markdown",
   "id": "af3d75a5",
   "metadata": {},
   "source": [
    "7. Antrenarea modelului final"
   ]
  },
  {
   "cell_type": "code",
   "execution_count": 33,
   "id": "3e65fa6b",
   "metadata": {},
   "outputs": [
    {
     "name": "stdout",
     "output_type": "stream",
     "text": [
      "                  precision    recall  f1-score   support\n",
      "\n",
      "            CPUs       1.00      1.00      1.00       758\n",
      " Digital Cameras       0.99      0.99      0.99       532\n",
      "     Dishwashers       0.90      0.97      0.93       675\n",
      "        Freezers       0.93      0.91      0.92       436\n",
      " Fridge Freezers       0.93      0.92      0.93      1085\n",
      "         Fridges       0.93      0.85      0.89       705\n",
      "      Microwaves       0.97      0.96      0.96       461\n",
      "   Mobile Phones       0.99      0.99      0.99       805\n",
      "             TVs       0.96      1.00      0.98       701\n",
      "Washing Machines       0.93      0.95      0.94       794\n",
      "\n",
      "        accuracy                           0.95      6952\n",
      "       macro avg       0.95      0.95      0.95      6952\n",
      "    weighted avg       0.95      0.95      0.95      6952\n",
      "\n"
     ]
    }
   ],
   "source": [
    "final_model = Pipeline([\n",
    "    (\"tfidf\", TfidfVectorizer(max_features=5000, ngram_range=(1,2))),\n",
    "    (\"clf\", LinearSVC())\n",
    "])\n",
    "\n",
    "final_model.fit(X_train, y_train)\n",
    "\n",
    "# Evaluare pe setul de test\n",
    "y_pred = final_model.predict(X_test)\n",
    "print(classification_report(y_test, y_pred, zero_division=0))\n"
   ]
  },
  {
   "cell_type": "markdown",
   "id": "71331d59",
   "metadata": {},
   "source": [
    "8. Salvarea modelului"
   ]
  },
  {
   "cell_type": "code",
   "execution_count": 34,
   "id": "e5f73a07",
   "metadata": {},
   "outputs": [
    {
     "name": "stdout",
     "output_type": "stream",
     "text": [
      "Modelul final a fost salvat in 'final_product_classifier.pkl'\n"
     ]
    }
   ],
   "source": [
    "joblib.dump(final_model, \"final_product_classifier.pkl\")\n",
    "print(\"Modelul final a fost salvat in 'final_product_classifier.pkl'\")\n"
   ]
  },
  {
   "cell_type": "markdown",
   "id": "3b33a86a",
   "metadata": {},
   "source": [
    "9. Testare predictii"
   ]
  },
  {
   "cell_type": "code",
   "execution_count": 35,
   "id": "2703c177",
   "metadata": {},
   "outputs": [
    {
     "name": "stdout",
     "output_type": "stream",
     "text": [
      "Predicted category: Mobile Phones\n"
     ]
    }
   ],
   "source": [
    "# Predictie simpla\n",
    "def predict_one(title):\n",
    "    return final_model.predict([title])[0]\n",
    "\n",
    "test_title = \"Samsung Galaxy S23\"\n",
    "print(\"Predicted category:\", predict_one(test_title))\n"
   ]
  }
 ],
 "metadata": {
  "kernelspec": {
   "display_name": "Python 3",
   "language": "python",
   "name": "python3"
  },
  "language_info": {
   "codemirror_mode": {
    "name": "ipython",
    "version": 3
   },
   "file_extension": ".py",
   "mimetype": "text/x-python",
   "name": "python",
   "nbconvert_exporter": "python",
   "pygments_lexer": "ipython3",
   "version": "3.13.3"
  }
 },
 "nbformat": 4,
 "nbformat_minor": 5
}
